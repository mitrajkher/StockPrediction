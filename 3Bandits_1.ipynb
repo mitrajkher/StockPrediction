{
  "nbformat": 4,
  "nbformat_minor": 0,
  "metadata": {
    "colab": {
      "name": "3Bandits#1",
      "provenance": [],
      "collapsed_sections": []
    },
    "kernelspec": {
      "name": "python3",
      "display_name": "Python 3"
    }
  },
  "cells": [
    {
      "cell_type": "markdown",
      "metadata": {
        "id": "uc5Ui9h9WAo6",
        "colab_type": "text"
      },
      "source": [
        "**Stock Price Prediction for NETFLIX**"
      ]
    },
    {
      "cell_type": "code",
      "metadata": {
        "id": "js15nXJHWGwZ",
        "colab_type": "code",
        "colab": {}
      },
      "source": [
        "#Importing the required Libraries\n",
        "import numpy as np\n",
        "import pandas as pd\n",
        "import matplotlib.pyplot as plt\n"
      ],
      "execution_count": 61,
      "outputs": []
    },
    {
      "cell_type": "code",
      "metadata": {
        "id": "8D1OAWh6XKwn",
        "colab_type": "code",
        "colab": {
          "base_uri": "https://localhost:8080/",
          "height": 419
        },
        "outputId": "fe15091f-34b4-4b35-9f69-c04b4939aa90"
      },
      "source": [
        "#Reading the Dataset\n",
        "data=pd.read_csv(\"/content/NETFLIX.csv\")\n",
        "data"
      ],
      "execution_count": 62,
      "outputs": [
        {
          "output_type": "execute_result",
          "data": {
            "text/html": [
              "<div>\n",
              "<style scoped>\n",
              "    .dataframe tbody tr th:only-of-type {\n",
              "        vertical-align: middle;\n",
              "    }\n",
              "\n",
              "    .dataframe tbody tr th {\n",
              "        vertical-align: top;\n",
              "    }\n",
              "\n",
              "    .dataframe thead th {\n",
              "        text-align: right;\n",
              "    }\n",
              "</style>\n",
              "<table border=\"1\" class=\"dataframe\">\n",
              "  <thead>\n",
              "    <tr style=\"text-align: right;\">\n",
              "      <th></th>\n",
              "      <th>Date</th>\n",
              "      <th>Open</th>\n",
              "      <th>High</th>\n",
              "      <th>Low</th>\n",
              "      <th>Close</th>\n",
              "      <th>Adj Close</th>\n",
              "      <th>Volume</th>\n",
              "    </tr>\n",
              "  </thead>\n",
              "  <tbody>\n",
              "    <tr>\n",
              "      <th>0</th>\n",
              "      <td>02-01-2019</td>\n",
              "      <td>259.279999</td>\n",
              "      <td>269.750000</td>\n",
              "      <td>256.579987</td>\n",
              "      <td>267.660004</td>\n",
              "      <td>267.660004</td>\n",
              "      <td>11679500</td>\n",
              "    </tr>\n",
              "    <tr>\n",
              "      <th>1</th>\n",
              "      <td>03-01-2019</td>\n",
              "      <td>270.200012</td>\n",
              "      <td>275.790009</td>\n",
              "      <td>264.429993</td>\n",
              "      <td>271.200012</td>\n",
              "      <td>271.200012</td>\n",
              "      <td>14969600</td>\n",
              "    </tr>\n",
              "    <tr>\n",
              "      <th>2</th>\n",
              "      <td>04-01-2019</td>\n",
              "      <td>281.880005</td>\n",
              "      <td>297.799988</td>\n",
              "      <td>278.540009</td>\n",
              "      <td>297.570007</td>\n",
              "      <td>297.570007</td>\n",
              "      <td>19330100</td>\n",
              "    </tr>\n",
              "    <tr>\n",
              "      <th>3</th>\n",
              "      <td>07-01-2019</td>\n",
              "      <td>302.100006</td>\n",
              "      <td>316.799988</td>\n",
              "      <td>301.649994</td>\n",
              "      <td>315.339996</td>\n",
              "      <td>315.339996</td>\n",
              "      <td>18620100</td>\n",
              "    </tr>\n",
              "    <tr>\n",
              "      <th>4</th>\n",
              "      <td>08-01-2019</td>\n",
              "      <td>319.980011</td>\n",
              "      <td>320.589996</td>\n",
              "      <td>308.010010</td>\n",
              "      <td>320.269989</td>\n",
              "      <td>320.269989</td>\n",
              "      <td>15359200</td>\n",
              "    </tr>\n",
              "    <tr>\n",
              "      <th>...</th>\n",
              "      <td>...</td>\n",
              "      <td>...</td>\n",
              "      <td>...</td>\n",
              "      <td>...</td>\n",
              "      <td>...</td>\n",
              "      <td>...</td>\n",
              "      <td>...</td>\n",
              "    </tr>\n",
              "    <tr>\n",
              "      <th>237</th>\n",
              "      <td>10-12-2019</td>\n",
              "      <td>296.119995</td>\n",
              "      <td>298.940002</td>\n",
              "      <td>292.019989</td>\n",
              "      <td>293.119995</td>\n",
              "      <td>293.119995</td>\n",
              "      <td>10476100</td>\n",
              "    </tr>\n",
              "    <tr>\n",
              "      <th>238</th>\n",
              "      <td>11-12-2019</td>\n",
              "      <td>294.489990</td>\n",
              "      <td>299.429993</td>\n",
              "      <td>294.200012</td>\n",
              "      <td>298.929993</td>\n",
              "      <td>298.929993</td>\n",
              "      <td>5589800</td>\n",
              "    </tr>\n",
              "    <tr>\n",
              "      <th>239</th>\n",
              "      <td>12-12-2019</td>\n",
              "      <td>295.670013</td>\n",
              "      <td>299.170013</td>\n",
              "      <td>295.059998</td>\n",
              "      <td>298.440002</td>\n",
              "      <td>298.440002</td>\n",
              "      <td>4766600</td>\n",
              "    </tr>\n",
              "    <tr>\n",
              "      <th>240</th>\n",
              "      <td>13-12-2019</td>\n",
              "      <td>298.500000</td>\n",
              "      <td>301.799988</td>\n",
              "      <td>297.250000</td>\n",
              "      <td>298.500000</td>\n",
              "      <td>298.500000</td>\n",
              "      <td>3879700</td>\n",
              "    </tr>\n",
              "    <tr>\n",
              "      <th>241</th>\n",
              "      <td>16-12-2019</td>\n",
              "      <td>300.850006</td>\n",
              "      <td>305.709991</td>\n",
              "      <td>298.630005</td>\n",
              "      <td>304.209991</td>\n",
              "      <td>304.209991</td>\n",
              "      <td>4658900</td>\n",
              "    </tr>\n",
              "  </tbody>\n",
              "</table>\n",
              "<p>242 rows × 7 columns</p>\n",
              "</div>"
            ],
            "text/plain": [
              "           Date        Open        High  ...       Close   Adj Close    Volume\n",
              "0    02-01-2019  259.279999  269.750000  ...  267.660004  267.660004  11679500\n",
              "1    03-01-2019  270.200012  275.790009  ...  271.200012  271.200012  14969600\n",
              "2    04-01-2019  281.880005  297.799988  ...  297.570007  297.570007  19330100\n",
              "3    07-01-2019  302.100006  316.799988  ...  315.339996  315.339996  18620100\n",
              "4    08-01-2019  319.980011  320.589996  ...  320.269989  320.269989  15359200\n",
              "..          ...         ...         ...  ...         ...         ...       ...\n",
              "237  10-12-2019  296.119995  298.940002  ...  293.119995  293.119995  10476100\n",
              "238  11-12-2019  294.489990  299.429993  ...  298.929993  298.929993   5589800\n",
              "239  12-12-2019  295.670013  299.170013  ...  298.440002  298.440002   4766600\n",
              "240  13-12-2019  298.500000  301.799988  ...  298.500000  298.500000   3879700\n",
              "241  16-12-2019  300.850006  305.709991  ...  304.209991  304.209991   4658900\n",
              "\n",
              "[242 rows x 7 columns]"
            ]
          },
          "metadata": {
            "tags": []
          },
          "execution_count": 62
        }
      ]
    },
    {
      "cell_type": "code",
      "metadata": {
        "id": "iiREPKafZc8g",
        "colab_type": "code",
        "colab": {
          "base_uri": "https://localhost:8080/",
          "height": 359
        },
        "outputId": "1914cf78-f6d9-49f3-865b-be1ed10ba461"
      },
      "source": [
        "# Printing the first 10 rows of Data\n",
        "data.head(10)"
      ],
      "execution_count": 63,
      "outputs": [
        {
          "output_type": "execute_result",
          "data": {
            "text/html": [
              "<div>\n",
              "<style scoped>\n",
              "    .dataframe tbody tr th:only-of-type {\n",
              "        vertical-align: middle;\n",
              "    }\n",
              "\n",
              "    .dataframe tbody tr th {\n",
              "        vertical-align: top;\n",
              "    }\n",
              "\n",
              "    .dataframe thead th {\n",
              "        text-align: right;\n",
              "    }\n",
              "</style>\n",
              "<table border=\"1\" class=\"dataframe\">\n",
              "  <thead>\n",
              "    <tr style=\"text-align: right;\">\n",
              "      <th></th>\n",
              "      <th>Date</th>\n",
              "      <th>Open</th>\n",
              "      <th>High</th>\n",
              "      <th>Low</th>\n",
              "      <th>Close</th>\n",
              "      <th>Adj Close</th>\n",
              "      <th>Volume</th>\n",
              "    </tr>\n",
              "  </thead>\n",
              "  <tbody>\n",
              "    <tr>\n",
              "      <th>0</th>\n",
              "      <td>02-01-2019</td>\n",
              "      <td>259.279999</td>\n",
              "      <td>269.750000</td>\n",
              "      <td>256.579987</td>\n",
              "      <td>267.660004</td>\n",
              "      <td>267.660004</td>\n",
              "      <td>11679500</td>\n",
              "    </tr>\n",
              "    <tr>\n",
              "      <th>1</th>\n",
              "      <td>03-01-2019</td>\n",
              "      <td>270.200012</td>\n",
              "      <td>275.790009</td>\n",
              "      <td>264.429993</td>\n",
              "      <td>271.200012</td>\n",
              "      <td>271.200012</td>\n",
              "      <td>14969600</td>\n",
              "    </tr>\n",
              "    <tr>\n",
              "      <th>2</th>\n",
              "      <td>04-01-2019</td>\n",
              "      <td>281.880005</td>\n",
              "      <td>297.799988</td>\n",
              "      <td>278.540009</td>\n",
              "      <td>297.570007</td>\n",
              "      <td>297.570007</td>\n",
              "      <td>19330100</td>\n",
              "    </tr>\n",
              "    <tr>\n",
              "      <th>3</th>\n",
              "      <td>07-01-2019</td>\n",
              "      <td>302.100006</td>\n",
              "      <td>316.799988</td>\n",
              "      <td>301.649994</td>\n",
              "      <td>315.339996</td>\n",
              "      <td>315.339996</td>\n",
              "      <td>18620100</td>\n",
              "    </tr>\n",
              "    <tr>\n",
              "      <th>4</th>\n",
              "      <td>08-01-2019</td>\n",
              "      <td>319.980011</td>\n",
              "      <td>320.589996</td>\n",
              "      <td>308.010010</td>\n",
              "      <td>320.269989</td>\n",
              "      <td>320.269989</td>\n",
              "      <td>15359200</td>\n",
              "    </tr>\n",
              "    <tr>\n",
              "      <th>5</th>\n",
              "      <td>09-01-2019</td>\n",
              "      <td>317.709991</td>\n",
              "      <td>323.350006</td>\n",
              "      <td>313.500000</td>\n",
              "      <td>319.959991</td>\n",
              "      <td>319.959991</td>\n",
              "      <td>13343200</td>\n",
              "    </tr>\n",
              "    <tr>\n",
              "      <th>6</th>\n",
              "      <td>10-01-2019</td>\n",
              "      <td>314.570007</td>\n",
              "      <td>325.369995</td>\n",
              "      <td>312.500000</td>\n",
              "      <td>324.660004</td>\n",
              "      <td>324.660004</td>\n",
              "      <td>13472500</td>\n",
              "    </tr>\n",
              "    <tr>\n",
              "      <th>7</th>\n",
              "      <td>11-01-2019</td>\n",
              "      <td>330.959991</td>\n",
              "      <td>341.089996</td>\n",
              "      <td>328.519989</td>\n",
              "      <td>337.589996</td>\n",
              "      <td>337.589996</td>\n",
              "      <td>19500400</td>\n",
              "    </tr>\n",
              "    <tr>\n",
              "      <th>8</th>\n",
              "      <td>14-01-2019</td>\n",
              "      <td>334.239990</td>\n",
              "      <td>335.480011</td>\n",
              "      <td>329.130005</td>\n",
              "      <td>332.940002</td>\n",
              "      <td>332.940002</td>\n",
              "      <td>10499600</td>\n",
              "    </tr>\n",
              "    <tr>\n",
              "      <th>9</th>\n",
              "      <td>15-01-2019</td>\n",
              "      <td>349.600006</td>\n",
              "      <td>357.220001</td>\n",
              "      <td>347.000000</td>\n",
              "      <td>354.640015</td>\n",
              "      <td>354.640015</td>\n",
              "      <td>21181200</td>\n",
              "    </tr>\n",
              "  </tbody>\n",
              "</table>\n",
              "</div>"
            ],
            "text/plain": [
              "         Date        Open        High  ...       Close   Adj Close    Volume\n",
              "0  02-01-2019  259.279999  269.750000  ...  267.660004  267.660004  11679500\n",
              "1  03-01-2019  270.200012  275.790009  ...  271.200012  271.200012  14969600\n",
              "2  04-01-2019  281.880005  297.799988  ...  297.570007  297.570007  19330100\n",
              "3  07-01-2019  302.100006  316.799988  ...  315.339996  315.339996  18620100\n",
              "4  08-01-2019  319.980011  320.589996  ...  320.269989  320.269989  15359200\n",
              "5  09-01-2019  317.709991  323.350006  ...  319.959991  319.959991  13343200\n",
              "6  10-01-2019  314.570007  325.369995  ...  324.660004  324.660004  13472500\n",
              "7  11-01-2019  330.959991  341.089996  ...  337.589996  337.589996  19500400\n",
              "8  14-01-2019  334.239990  335.480011  ...  332.940002  332.940002  10499600\n",
              "9  15-01-2019  349.600006  357.220001  ...  354.640015  354.640015  21181200\n",
              "\n",
              "[10 rows x 7 columns]"
            ]
          },
          "metadata": {
            "tags": []
          },
          "execution_count": 63
        }
      ]
    },
    {
      "cell_type": "code",
      "metadata": {
        "id": "gcDFW6L0XVOb",
        "colab_type": "code",
        "colab": {
          "base_uri": "https://localhost:8080/",
          "height": 34
        },
        "outputId": "4dc6ebaa-945d-43d9-eb9f-03ce88105d08"
      },
      "source": [
        "#Checing the dimensions of Data\n",
        "data.shape"
      ],
      "execution_count": 64,
      "outputs": [
        {
          "output_type": "execute_result",
          "data": {
            "text/plain": [
              "(242, 7)"
            ]
          },
          "metadata": {
            "tags": []
          },
          "execution_count": 64
        }
      ]
    },
    {
      "cell_type": "code",
      "metadata": {
        "id": "JWLhhqsxYv6F",
        "colab_type": "code",
        "colab": {
          "base_uri": "https://localhost:8080/",
          "height": 297
        },
        "outputId": "44b31fbf-a1be-4026-93fe-8f47001199e7"
      },
      "source": [
        "#Statistical Summary\n",
        "data.describe()"
      ],
      "execution_count": 65,
      "outputs": [
        {
          "output_type": "execute_result",
          "data": {
            "text/html": [
              "<div>\n",
              "<style scoped>\n",
              "    .dataframe tbody tr th:only-of-type {\n",
              "        vertical-align: middle;\n",
              "    }\n",
              "\n",
              "    .dataframe tbody tr th {\n",
              "        vertical-align: top;\n",
              "    }\n",
              "\n",
              "    .dataframe thead th {\n",
              "        text-align: right;\n",
              "    }\n",
              "</style>\n",
              "<table border=\"1\" class=\"dataframe\">\n",
              "  <thead>\n",
              "    <tr style=\"text-align: right;\">\n",
              "      <th></th>\n",
              "      <th>Open</th>\n",
              "      <th>High</th>\n",
              "      <th>Low</th>\n",
              "      <th>Close</th>\n",
              "      <th>Adj Close</th>\n",
              "      <th>Volume</th>\n",
              "    </tr>\n",
              "  </thead>\n",
              "  <tbody>\n",
              "    <tr>\n",
              "      <th>count</th>\n",
              "      <td>242.000000</td>\n",
              "      <td>242.000000</td>\n",
              "      <td>242.000000</td>\n",
              "      <td>242.000000</td>\n",
              "      <td>242.000000</td>\n",
              "      <td>2.420000e+02</td>\n",
              "    </tr>\n",
              "    <tr>\n",
              "      <th>mean</th>\n",
              "      <td>328.690125</td>\n",
              "      <td>333.077025</td>\n",
              "      <td>324.095537</td>\n",
              "      <td>328.907189</td>\n",
              "      <td>328.907189</td>\n",
              "      <td>7.910557e+06</td>\n",
              "    </tr>\n",
              "    <tr>\n",
              "      <th>std</th>\n",
              "      <td>35.485602</td>\n",
              "      <td>35.378773</td>\n",
              "      <td>35.264082</td>\n",
              "      <td>35.172537</td>\n",
              "      <td>35.172537</td>\n",
              "      <td>4.699169e+06</td>\n",
              "    </tr>\n",
              "    <tr>\n",
              "      <th>min</th>\n",
              "      <td>255.710007</td>\n",
              "      <td>265.000000</td>\n",
              "      <td>252.279999</td>\n",
              "      <td>254.589996</td>\n",
              "      <td>254.589996</td>\n",
              "      <td>2.411700e+06</td>\n",
              "    </tr>\n",
              "    <tr>\n",
              "      <th>25%</th>\n",
              "      <td>295.259994</td>\n",
              "      <td>299.154999</td>\n",
              "      <td>291.085007</td>\n",
              "      <td>295.212502</td>\n",
              "      <td>295.212502</td>\n",
              "      <td>5.160175e+06</td>\n",
              "    </tr>\n",
              "    <tr>\n",
              "      <th>50%</th>\n",
              "      <td>335.925003</td>\n",
              "      <td>341.434998</td>\n",
              "      <td>329.964996</td>\n",
              "      <td>337.819992</td>\n",
              "      <td>337.819992</td>\n",
              "      <td>6.390800e+06</td>\n",
              "    </tr>\n",
              "    <tr>\n",
              "      <th>75%</th>\n",
              "      <td>360.127503</td>\n",
              "      <td>364.674995</td>\n",
              "      <td>355.162506</td>\n",
              "      <td>359.865006</td>\n",
              "      <td>359.865006</td>\n",
              "      <td>8.762700e+06</td>\n",
              "    </tr>\n",
              "    <tr>\n",
              "      <th>max</th>\n",
              "      <td>382.769989</td>\n",
              "      <td>385.989990</td>\n",
              "      <td>378.799988</td>\n",
              "      <td>385.029999</td>\n",
              "      <td>385.029999</td>\n",
              "      <td>3.825890e+07</td>\n",
              "    </tr>\n",
              "  </tbody>\n",
              "</table>\n",
              "</div>"
            ],
            "text/plain": [
              "             Open        High         Low       Close   Adj Close        Volume\n",
              "count  242.000000  242.000000  242.000000  242.000000  242.000000  2.420000e+02\n",
              "mean   328.690125  333.077025  324.095537  328.907189  328.907189  7.910557e+06\n",
              "std     35.485602   35.378773   35.264082   35.172537   35.172537  4.699169e+06\n",
              "min    255.710007  265.000000  252.279999  254.589996  254.589996  2.411700e+06\n",
              "25%    295.259994  299.154999  291.085007  295.212502  295.212502  5.160175e+06\n",
              "50%    335.925003  341.434998  329.964996  337.819992  337.819992  6.390800e+06\n",
              "75%    360.127503  364.674995  355.162506  359.865006  359.865006  8.762700e+06\n",
              "max    382.769989  385.989990  378.799988  385.029999  385.029999  3.825890e+07"
            ]
          },
          "metadata": {
            "tags": []
          },
          "execution_count": 65
        }
      ]
    },
    {
      "cell_type": "code",
      "metadata": {
        "id": "wzVaXvCkY4kk",
        "colab_type": "code",
        "colab": {
          "base_uri": "https://localhost:8080/",
          "height": 255
        },
        "outputId": "254f7249-4585-42bf-d098-0e33c596012d"
      },
      "source": [
        "#More information about the data\n",
        "data.info()"
      ],
      "execution_count": 66,
      "outputs": [
        {
          "output_type": "stream",
          "text": [
            "<class 'pandas.core.frame.DataFrame'>\n",
            "RangeIndex: 242 entries, 0 to 241\n",
            "Data columns (total 7 columns):\n",
            " #   Column     Non-Null Count  Dtype  \n",
            "---  ------     --------------  -----  \n",
            " 0   Date       242 non-null    object \n",
            " 1   Open       242 non-null    float64\n",
            " 2   High       242 non-null    float64\n",
            " 3   Low        242 non-null    float64\n",
            " 4   Close      242 non-null    float64\n",
            " 5   Adj Close  242 non-null    float64\n",
            " 6   Volume     242 non-null    int64  \n",
            "dtypes: float64(5), int64(1), object(1)\n",
            "memory usage: 13.4+ KB\n"
          ],
          "name": "stdout"
        }
      ]
    },
    {
      "cell_type": "code",
      "metadata": {
        "id": "FIlNC7BgZDa3",
        "colab_type": "code",
        "colab": {
          "base_uri": "https://localhost:8080/",
          "height": 153
        },
        "outputId": "739e15e3-c95f-4c38-bc4f-37f466623f4a"
      },
      "source": [
        "# Data types of Variables\n",
        "data.dtypes"
      ],
      "execution_count": 67,
      "outputs": [
        {
          "output_type": "execute_result",
          "data": {
            "text/plain": [
              "Date          object\n",
              "Open         float64\n",
              "High         float64\n",
              "Low          float64\n",
              "Close        float64\n",
              "Adj Close    float64\n",
              "Volume         int64\n",
              "dtype: object"
            ]
          },
          "metadata": {
            "tags": []
          },
          "execution_count": 67
        }
      ]
    },
    {
      "cell_type": "code",
      "metadata": {
        "id": "Q5yiLZqRZOEG",
        "colab_type": "code",
        "colab": {
          "base_uri": "https://localhost:8080/",
          "height": 153
        },
        "outputId": "8aa32fc0-0ce3-4832-94c4-03e3c510a2c3"
      },
      "source": [
        "#Checking for the null values\n",
        "data.isnull().sum()"
      ],
      "execution_count": 68,
      "outputs": [
        {
          "output_type": "execute_result",
          "data": {
            "text/plain": [
              "Date         0\n",
              "Open         0\n",
              "High         0\n",
              "Low          0\n",
              "Close        0\n",
              "Adj Close    0\n",
              "Volume       0\n",
              "dtype: int64"
            ]
          },
          "metadata": {
            "tags": []
          },
          "execution_count": 68
        }
      ]
    }
  ]
}